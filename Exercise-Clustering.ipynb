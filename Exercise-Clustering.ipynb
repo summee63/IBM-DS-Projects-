{
    "cells": [
        {
            "cell_type": "markdown",
            "metadata": {
                "collapsed": true
            },
            "source": "# Cluster Analysis Course Notebook"
        },
        {
            "cell_type": "markdown",
            "metadata": {},
            "source": "### Importing Data files"
        },
        {
            "cell_type": "code",
            "execution_count": 2,
            "metadata": {},
            "outputs": [
                {
                    "data": {
                        "text/html": "<div>\n<style scoped>\n    .dataframe tbody tr th:only-of-type {\n        vertical-align: middle;\n    }\n\n    .dataframe tbody tr th {\n        vertical-align: top;\n    }\n\n    .dataframe thead th {\n        text-align: right;\n    }\n</style>\n<table border=\"1\" class=\"dataframe\">\n  <thead>\n    <tr style=\"text-align: right;\">\n      <th></th>\n      <th>PRODUCT CODE</th>\n      <th>PRODUCT CATEGORY</th>\n      <th>UNIT LIST PRICE</th>\n    </tr>\n  </thead>\n  <tbody>\n    <tr>\n      <th>0</th>\n      <td>30001</td>\n      <td>HEALTH &amp; BEAUTY</td>\n      <td>$7.45</td>\n    </tr>\n    <tr>\n      <th>1</th>\n      <td>30002</td>\n      <td>HEALTH &amp; BEAUTY</td>\n      <td>$5.35</td>\n    </tr>\n    <tr>\n      <th>2</th>\n      <td>30003</td>\n      <td>HEALTH &amp; BEAUTY</td>\n      <td>$5.49</td>\n    </tr>\n    <tr>\n      <th>3</th>\n      <td>30004</td>\n      <td>HEALTH &amp; BEAUTY</td>\n      <td>$6.46</td>\n    </tr>\n    <tr>\n      <th>4</th>\n      <td>30005</td>\n      <td>HEALTH &amp; BEAUTY</td>\n      <td>$7.33</td>\n    </tr>\n  </tbody>\n</table>\n</div>",
                        "text/plain": "   PRODUCT CODE PRODUCT CATEGORY UNIT LIST PRICE\n0         30001  HEALTH & BEAUTY          $7.45 \n1         30002  HEALTH & BEAUTY          $5.35 \n2         30003  HEALTH & BEAUTY          $5.49 \n3         30004  HEALTH & BEAUTY          $6.46 \n4         30005  HEALTH & BEAUTY          $7.33 "
                    },
                    "execution_count": 2,
                    "metadata": {},
                    "output_type": "execute_result"
                }
            ],
            "source": "# The code was removed by Watson Studio for sharing."
        },
        {
            "cell_type": "code",
            "execution_count": 4,
            "metadata": {},
            "outputs": [
                {
                    "data": {
                        "text/html": "<div>\n<style scoped>\n    .dataframe tbody tr th:only-of-type {\n        vertical-align: middle;\n    }\n\n    .dataframe tbody tr th {\n        vertical-align: top;\n    }\n\n    .dataframe thead th {\n        text-align: right;\n    }\n</style>\n<table border=\"1\" class=\"dataframe\">\n  <thead>\n    <tr style=\"text-align: right;\">\n      <th></th>\n      <th>CUSTOMER NUM</th>\n      <th>PRODUCT NUM</th>\n      <th>QUANTITY PURCHASED</th>\n      <th>DISCOUNT TAKEN</th>\n      <th>TRANSACTION DATE</th>\n      <th>STOCKOUT</th>\n    </tr>\n  </thead>\n  <tbody>\n    <tr>\n      <th>0</th>\n      <td>10114</td>\n      <td>30011</td>\n      <td>4</td>\n      <td>0.0</td>\n      <td>1/2/2015</td>\n      <td>0</td>\n    </tr>\n    <tr>\n      <th>1</th>\n      <td>10217</td>\n      <td>30016</td>\n      <td>3</td>\n      <td>0.0</td>\n      <td>1/2/2015</td>\n      <td>0</td>\n    </tr>\n    <tr>\n      <th>2</th>\n      <td>10224</td>\n      <td>30013</td>\n      <td>4</td>\n      <td>0.0</td>\n      <td>1/2/2015</td>\n      <td>0</td>\n    </tr>\n    <tr>\n      <th>3</th>\n      <td>10103</td>\n      <td>30012</td>\n      <td>3</td>\n      <td>0.2</td>\n      <td>1/2/2015</td>\n      <td>0</td>\n    </tr>\n    <tr>\n      <th>4</th>\n      <td>10037</td>\n      <td>30010</td>\n      <td>8</td>\n      <td>0.0</td>\n      <td>1/2/2015</td>\n      <td>0</td>\n    </tr>\n  </tbody>\n</table>\n</div>",
                        "text/plain": "   CUSTOMER NUM  PRODUCT NUM  QUANTITY PURCHASED  DISCOUNT TAKEN  \\\n0         10114        30011                   4             0.0   \n1         10217        30016                   3             0.0   \n2         10224        30013                   4             0.0   \n3         10103        30012                   3             0.2   \n4         10037        30010                   8             0.0   \n\n  TRANSACTION DATE  STOCKOUT  \n0         1/2/2015         0  \n1         1/2/2015         0  \n2         1/2/2015         0  \n3         1/2/2015         0  \n4         1/2/2015         0  "
                    },
                    "execution_count": 4,
                    "metadata": {},
                    "output_type": "execute_result"
                }
            ],
            "source": "#Import Transaction DataSet here\nbody = client_c9b4358879c741bf958d77f601f8235b.get_object(Bucket='ibmdigitalnationclusteringexercis-donotdelete-pr-yeys0zin9qhckm',Key='Transaction Data Set - Student 3 of 3.csv')['Body']\n# add missing __iter__ method, so pandas accepts body as file-like object\nif not hasattr(body, \"__iter__\"): body.__iter__ = types.MethodType( __iter__, body )\n\ntransactions_data = pd.read_csv(body, sep = '|')\ntransactions_data.head()\n"
        },
        {
            "cell_type": "code",
            "execution_count": 5,
            "metadata": {},
            "outputs": [
                {
                    "data": {
                        "text/html": "<div>\n<style scoped>\n    .dataframe tbody tr th:only-of-type {\n        vertical-align: middle;\n    }\n\n    .dataframe tbody tr th {\n        vertical-align: top;\n    }\n\n    .dataframe thead th {\n        text-align: right;\n    }\n</style>\n<table border=\"1\" class=\"dataframe\">\n  <thead>\n    <tr style=\"text-align: right;\">\n      <th></th>\n      <th>CUSTOMERID</th>\n      <th>GENDER</th>\n      <th>AGE</th>\n      <th>INCOME</th>\n      <th>EXPERIENCE SCORE</th>\n      <th>LOYALTY GROUP</th>\n      <th>ENROLLMENT DATE</th>\n      <th>HOUSEHOLD SIZE</th>\n      <th>MARITAL STATUS</th>\n    </tr>\n  </thead>\n  <tbody>\n    <tr>\n      <th>0</th>\n      <td>10001</td>\n      <td>0</td>\n      <td>64</td>\n      <td>$133,498</td>\n      <td>5</td>\n      <td>enrolled</td>\n      <td>06-03-2013</td>\n      <td>4</td>\n      <td>Single</td>\n    </tr>\n    <tr>\n      <th>1</th>\n      <td>10002</td>\n      <td>0</td>\n      <td>42</td>\n      <td>$94,475</td>\n      <td>9</td>\n      <td>notenrolled</td>\n      <td>NaN</td>\n      <td>6</td>\n      <td>Married</td>\n    </tr>\n    <tr>\n      <th>2</th>\n      <td>10003</td>\n      <td>0</td>\n      <td>40</td>\n      <td>$88,610</td>\n      <td>9</td>\n      <td>enrolled</td>\n      <td>02-09-2010</td>\n      <td>5</td>\n      <td>Married</td>\n    </tr>\n    <tr>\n      <th>3</th>\n      <td>10004</td>\n      <td>0</td>\n      <td>38</td>\n      <td>$84,313</td>\n      <td>8</td>\n      <td>enrolled</td>\n      <td>06-04-2015</td>\n      <td>1</td>\n      <td>Single</td>\n    </tr>\n    <tr>\n      <th>4</th>\n      <td>10005</td>\n      <td>0</td>\n      <td>30</td>\n      <td>$51,498</td>\n      <td>3</td>\n      <td>notenrolled</td>\n      <td>NaN</td>\n      <td>1</td>\n      <td>Single</td>\n    </tr>\n  </tbody>\n</table>\n</div>",
                        "text/plain": "   CUSTOMERID  GENDER  AGE    INCOME  EXPERIENCE SCORE LOYALTY GROUP  \\\n0       10001       0   64  $133,498                 5      enrolled   \n1       10002       0   42   $94,475                 9   notenrolled   \n2       10003       0   40   $88,610                 9      enrolled   \n3       10004       0   38   $84,313                 8      enrolled   \n4       10005       0   30   $51,498                 3   notenrolled   \n\n  ENROLLMENT DATE  HOUSEHOLD SIZE MARITAL STATUS  \n0      06-03-2013               4         Single  \n1             NaN               6        Married  \n2      02-09-2010               5        Married  \n3      06-04-2015               1         Single  \n4             NaN               1         Single  "
                    },
                    "execution_count": 5,
                    "metadata": {},
                    "output_type": "execute_result"
                }
            ],
            "source": "#Import Customer Dataset Here\nbody = client_c9b4358879c741bf958d77f601f8235b.get_object(Bucket='ibmdigitalnationclusteringexercis-donotdelete-pr-yeys0zin9qhckm',Key='Customer Data Set - Student 1 of 3.csv')['Body']\n# add missing __iter__ method, so pandas accepts body as file-like object\nif not hasattr(body, \"__iter__\"): body.__iter__ = types.MethodType( __iter__, body )\n\ncustomer_data = pd.read_csv(body)\ncustomer_data.head()\n"
        },
        {
            "cell_type": "markdown",
            "metadata": {},
            "source": "### Changing data types"
        },
        {
            "cell_type": "code",
            "execution_count": 6,
            "metadata": {},
            "outputs": [],
            "source": "customer_data['INCOME']=customer_data['INCOME'].map(lambda x : x.replace('$',''))"
        },
        {
            "cell_type": "code",
            "execution_count": 7,
            "metadata": {},
            "outputs": [],
            "source": "customer_data['INCOME']=customer_data['INCOME'].map(lambda x : int(x.replace(',','')))"
        },
        {
            "cell_type": "markdown",
            "metadata": {},
            "source": "### Creating Customer View"
        },
        {
            "cell_type": "code",
            "execution_count": 8,
            "metadata": {},
            "outputs": [],
            "source": "trans_products=transactions_data.merge(product_data,how='inner', left_on='PRODUCT NUM', right_on='PRODUCT CODE')"
        },
        {
            "cell_type": "code",
            "execution_count": 9,
            "metadata": {},
            "outputs": [],
            "source": "trans_products['UNIT LIST PRICE']=trans_products['UNIT LIST PRICE'].map(lambda x : float(x.replace('$','')))"
        },
        {
            "cell_type": "code",
            "execution_count": 10,
            "metadata": {},
            "outputs": [],
            "source": "trans_products['Total_Price']=trans_products['QUANTITY PURCHASED'] * trans_products['UNIT LIST PRICE'] * (1- trans_products['DISCOUNT TAKEN'])"
        },
        {
            "cell_type": "code",
            "execution_count": 11,
            "metadata": {},
            "outputs": [],
            "source": "customer_prod_categ=trans_products.groupby(['CUSTOMER NUM','PRODUCT CATEGORY']).agg({'Total_Price':'sum'})"
        },
        {
            "cell_type": "code",
            "execution_count": 12,
            "metadata": {},
            "outputs": [],
            "source": "customer_prod_categ=customer_prod_categ.reset_index()"
        },
        {
            "cell_type": "code",
            "execution_count": 13,
            "metadata": {},
            "outputs": [],
            "source": "customer_pivot=customer_prod_categ.pivot(index='CUSTOMER NUM',columns='PRODUCT CATEGORY',values='Total_Price')"
        },
        {
            "cell_type": "code",
            "execution_count": 14,
            "metadata": {},
            "outputs": [],
            "source": "trans_total_spend=trans_products.groupby('CUSTOMER NUM').agg({'Total_Price':'sum'}).\\\nrename(columns={'Total_Price':'TOTAL SPENT'})"
        },
        {
            "cell_type": "code",
            "execution_count": 15,
            "metadata": {},
            "outputs": [],
            "source": "customer_KPIs=customer_pivot.merge(trans_total_spend,how='inner',left_index=True, right_index=True )"
        },
        {
            "cell_type": "code",
            "execution_count": 16,
            "metadata": {},
            "outputs": [],
            "source": "customer_KPIs=customer_KPIs.fillna(0)\n"
        },
        {
            "cell_type": "code",
            "execution_count": 17,
            "metadata": {},
            "outputs": [],
            "source": "customer_all_view=customer_data.merge(customer_KPIs,how='inner', left_on='CUSTOMERID', right_index=True)"
        },
        {
            "cell_type": "code",
            "execution_count": 18,
            "metadata": {},
            "outputs": [
                {
                    "data": {
                        "text/html": "<div>\n<style scoped>\n    .dataframe tbody tr th:only-of-type {\n        vertical-align: middle;\n    }\n\n    .dataframe tbody tr th {\n        vertical-align: top;\n    }\n\n    .dataframe thead th {\n        text-align: right;\n    }\n</style>\n<table border=\"1\" class=\"dataframe\">\n  <thead>\n    <tr style=\"text-align: right;\">\n      <th></th>\n      <th>CUSTOMERID</th>\n      <th>GENDER</th>\n      <th>AGE</th>\n      <th>INCOME</th>\n      <th>EXPERIENCE SCORE</th>\n      <th>LOYALTY GROUP</th>\n      <th>ENROLLMENT DATE</th>\n      <th>HOUSEHOLD SIZE</th>\n      <th>MARITAL STATUS</th>\n      <th>APPAREL</th>\n      <th>ELECTRONICS</th>\n      <th>FOOD</th>\n      <th>HEALTH &amp; BEAUTY</th>\n      <th>TOTAL SPENT</th>\n    </tr>\n  </thead>\n  <tbody>\n    <tr>\n      <th>0</th>\n      <td>10001</td>\n      <td>0</td>\n      <td>64</td>\n      <td>133498</td>\n      <td>5</td>\n      <td>enrolled</td>\n      <td>06-03-2013</td>\n      <td>4</td>\n      <td>Single</td>\n      <td>4022.430</td>\n      <td>1601.315</td>\n      <td>68.688</td>\n      <td>1134.337</td>\n      <td>6826.770</td>\n    </tr>\n    <tr>\n      <th>1</th>\n      <td>10002</td>\n      <td>0</td>\n      <td>42</td>\n      <td>94475</td>\n      <td>9</td>\n      <td>notenrolled</td>\n      <td>NaN</td>\n      <td>6</td>\n      <td>Married</td>\n      <td>2312.509</td>\n      <td>2473.163</td>\n      <td>276.779</td>\n      <td>0.000</td>\n      <td>5062.451</td>\n    </tr>\n    <tr>\n      <th>2</th>\n      <td>10003</td>\n      <td>0</td>\n      <td>40</td>\n      <td>88610</td>\n      <td>9</td>\n      <td>enrolled</td>\n      <td>02-09-2010</td>\n      <td>5</td>\n      <td>Married</td>\n      <td>2887.382</td>\n      <td>5414.418</td>\n      <td>260.640</td>\n      <td>0.000</td>\n      <td>8562.440</td>\n    </tr>\n    <tr>\n      <th>3</th>\n      <td>10004</td>\n      <td>0</td>\n      <td>38</td>\n      <td>84313</td>\n      <td>8</td>\n      <td>enrolled</td>\n      <td>06-04-2015</td>\n      <td>1</td>\n      <td>Single</td>\n      <td>3637.213</td>\n      <td>1840.211</td>\n      <td>45.270</td>\n      <td>0.000</td>\n      <td>5522.694</td>\n    </tr>\n    <tr>\n      <th>4</th>\n      <td>10005</td>\n      <td>0</td>\n      <td>30</td>\n      <td>51498</td>\n      <td>3</td>\n      <td>notenrolled</td>\n      <td>NaN</td>\n      <td>1</td>\n      <td>Single</td>\n      <td>213.512</td>\n      <td>0.000</td>\n      <td>0.000</td>\n      <td>0.000</td>\n      <td>213.512</td>\n    </tr>\n  </tbody>\n</table>\n</div>",
                        "text/plain": "   CUSTOMERID  GENDER  AGE  INCOME  EXPERIENCE SCORE LOYALTY GROUP  \\\n0       10001       0   64  133498                 5      enrolled   \n1       10002       0   42   94475                 9   notenrolled   \n2       10003       0   40   88610                 9      enrolled   \n3       10004       0   38   84313                 8      enrolled   \n4       10005       0   30   51498                 3   notenrolled   \n\n  ENROLLMENT DATE  HOUSEHOLD SIZE MARITAL STATUS   APPAREL  ELECTRONICS  \\\n0      06-03-2013               4         Single  4022.430     1601.315   \n1             NaN               6        Married  2312.509     2473.163   \n2      02-09-2010               5        Married  2887.382     5414.418   \n3      06-04-2015               1         Single  3637.213     1840.211   \n4             NaN               1         Single   213.512        0.000   \n\n      FOOD  HEALTH & BEAUTY  TOTAL SPENT  \n0   68.688         1134.337     6826.770  \n1  276.779            0.000     5062.451  \n2  260.640            0.000     8562.440  \n3   45.270            0.000     5522.694  \n4    0.000            0.000      213.512  "
                    },
                    "execution_count": 18,
                    "metadata": {},
                    "output_type": "execute_result"
                }
            ],
            "source": "customer_all_view.head()"
        },
        {
            "cell_type": "markdown",
            "metadata": {},
            "source": "# Clustering  "
        },
        {
            "cell_type": "code",
            "execution_count": 19,
            "metadata": {},
            "outputs": [],
            "source": "#Begin Writing your code here\nfrom sklearn.cluster import KMeans\nfrom sklearn.cluster import AgglomerativeClustering"
        },
        {
            "cell_type": "code",
            "execution_count": 20,
            "metadata": {},
            "outputs": [
                {
                    "data": {
                        "text/html": "<div>\n<style scoped>\n    .dataframe tbody tr th:only-of-type {\n        vertical-align: middle;\n    }\n\n    .dataframe tbody tr th {\n        vertical-align: top;\n    }\n\n    .dataframe thead th {\n        text-align: right;\n    }\n</style>\n<table border=\"1\" class=\"dataframe\">\n  <thead>\n    <tr style=\"text-align: right;\">\n      <th></th>\n      <th>INCOME</th>\n      <th>TOTAL SPENT</th>\n    </tr>\n  </thead>\n  <tbody>\n    <tr>\n      <th>0</th>\n      <td>133498</td>\n      <td>6826.770</td>\n    </tr>\n    <tr>\n      <th>1</th>\n      <td>94475</td>\n      <td>5062.451</td>\n    </tr>\n    <tr>\n      <th>2</th>\n      <td>88610</td>\n      <td>8562.440</td>\n    </tr>\n    <tr>\n      <th>3</th>\n      <td>84313</td>\n      <td>5522.694</td>\n    </tr>\n    <tr>\n      <th>4</th>\n      <td>51498</td>\n      <td>213.512</td>\n    </tr>\n  </tbody>\n</table>\n</div>",
                        "text/plain": "   INCOME  TOTAL SPENT\n0  133498     6826.770\n1   94475     5062.451\n2   88610     8562.440\n3   84313     5522.694\n4   51498      213.512"
                    },
                    "execution_count": 20,
                    "metadata": {},
                    "output_type": "execute_result"
                }
            ],
            "source": "cluster_input=customer_all_view[['INCOME','TOTAL SPENT']]\ncluster_input.head(5)"
        },
        {
            "cell_type": "code",
            "execution_count": 21,
            "metadata": {},
            "outputs": [
                {
                    "data": {
                        "text/plain": "KMeans(algorithm='auto', copy_x=True, init='k-means++', max_iter=300,\n    n_clusters=4, n_init=10, n_jobs=None, precompute_distances='auto',\n    random_state=None, tol=0.0001, verbose=0)"
                    },
                    "execution_count": 21,
                    "metadata": {},
                    "output_type": "execute_result"
                }
            ],
            "source": "Kmeans_model=KMeans(n_clusters=4)\nKmeans_model"
        },
        {
            "cell_type": "code",
            "execution_count": 22,
            "metadata": {},
            "outputs": [
                {
                    "data": {
                        "text/plain": "array([1, 2, 2, 2, 0, 1, 2, 3, 3, 2, 0, 3, 2, 2, 0, 2, 2, 3, 1, 0, 3, 3,\n       3, 0, 3, 3, 2, 0, 0, 1, 2, 0, 0, 2, 0, 0, 0, 3, 3, 0, 0, 2, 2, 2,\n       1, 0, 0, 2, 1, 0, 3, 0, 0, 0, 3, 0, 3, 3, 3, 0, 2, 3, 1, 3, 1, 2,\n       2, 3, 0, 2, 2, 0, 0, 2, 1, 0, 2, 0, 2, 1, 2, 3, 1, 3, 0, 3, 1, 0,\n       2, 0, 3, 1, 3, 3, 3, 2, 3, 0, 1, 3, 0, 0, 0, 0, 2, 3, 3, 0, 2, 0,\n       0, 0, 2, 0, 3, 0, 1, 1, 2, 2, 0, 2, 3, 0, 2, 2, 3, 2, 0, 1, 2, 2,\n       0, 2, 1, 2, 1, 1, 3, 2, 2, 0, 0, 0, 2, 3, 2, 0, 3, 2, 2, 3, 3, 3,\n       2, 3, 0, 0, 3, 0, 1, 0, 1, 3, 0, 2, 0, 1, 2, 0, 1, 0, 3, 3, 1, 0,\n       1, 1, 2, 0, 1, 0, 2, 0, 3, 1, 3, 3, 0, 1, 0, 3, 3, 1, 3, 1, 3, 1,\n       3, 2, 2, 0, 1, 1, 3, 0, 2, 1, 1, 1, 1, 0, 3, 2, 1, 3, 0, 3, 2, 0,\n       2, 0, 3, 0, 0, 0, 3, 0, 0, 2, 3, 2, 3, 2, 2, 0, 3, 1, 0, 0, 0, 2,\n       2, 2, 2, 0, 3, 3, 1, 0, 2, 3, 0, 3, 0, 2, 0, 1, 3, 3, 0, 1, 0, 2,\n       2, 1, 3, 2, 2, 3, 1, 0, 1, 0, 0, 0, 1, 2, 3, 3, 3, 2, 2, 2, 1, 2,\n       3, 2, 3, 1, 1, 0, 0, 1, 0, 0, 0, 0, 2, 2, 0, 2, 2, 1, 0, 1, 0, 0,\n       1, 0, 0, 3, 2, 2, 2, 2, 0, 1, 3, 0, 3, 2, 0, 2, 0, 0, 2, 0, 3, 0,\n       0, 3, 0, 2, 2, 0, 0, 3, 3, 3, 3, 1, 3, 2, 3, 3, 2, 1, 3, 2, 0, 2,\n       0, 3, 1, 1, 3, 2, 0, 2, 1, 2, 0, 3, 2, 0, 2, 3, 3, 2, 3, 2, 2, 1,\n       2, 1, 3, 2, 0, 3, 2, 0, 0, 0, 1, 2, 0, 2, 1, 0, 1, 0, 2, 1, 0, 3,\n       1, 2, 1, 2, 3, 1, 0, 0, 1, 2, 0, 1, 2, 2, 1, 3, 0, 2, 1, 0, 3, 3,\n       1, 0, 0, 2, 2, 2, 3, 2, 1, 3, 2, 0, 3, 2, 2, 0, 1, 2, 3, 3, 2, 3,\n       3, 0, 0, 1, 0, 2, 1, 0, 0, 2, 0, 0, 0, 0, 1, 2, 3, 3, 2, 0, 1, 2,\n       3, 2, 1, 3, 2, 0, 0, 3, 1, 2, 1, 3, 3, 2, 2, 2, 0, 0, 0, 3, 3, 1,\n       2, 0, 2, 0, 3, 1, 2, 2, 1, 2, 0, 3, 3, 3, 0, 2], dtype=int32)"
                    },
                    "execution_count": 22,
                    "metadata": {},
                    "output_type": "execute_result"
                }
            ],
            "source": "cluster_output = Kmeans_model.fit_predict(cluster_input)\ncluster_output"
        },
        {
            "cell_type": "code",
            "execution_count": 23,
            "metadata": {},
            "outputs": [
                {
                    "data": {
                        "text/plain": "numpy.ndarray"
                    },
                    "execution_count": 23,
                    "metadata": {},
                    "output_type": "execute_result"
                }
            ],
            "source": "type(cluster_output)"
        },
        {
            "cell_type": "code",
            "execution_count": 25,
            "metadata": {},
            "outputs": [
                {
                    "data": {
                        "text/html": "<div>\n<style scoped>\n    .dataframe tbody tr th:only-of-type {\n        vertical-align: middle;\n    }\n\n    .dataframe tbody tr th {\n        vertical-align: top;\n    }\n\n    .dataframe thead th {\n        text-align: right;\n    }\n</style>\n<table border=\"1\" class=\"dataframe\">\n  <thead>\n    <tr style=\"text-align: right;\">\n      <th></th>\n      <th>segment</th>\n    </tr>\n  </thead>\n  <tbody>\n    <tr>\n      <th>0</th>\n      <td>1</td>\n    </tr>\n    <tr>\n      <th>1</th>\n      <td>2</td>\n    </tr>\n    <tr>\n      <th>2</th>\n      <td>2</td>\n    </tr>\n    <tr>\n      <th>3</th>\n      <td>2</td>\n    </tr>\n    <tr>\n      <th>4</th>\n      <td>0</td>\n    </tr>\n  </tbody>\n</table>\n</div>",
                        "text/plain": "   segment\n0        1\n1        2\n2        2\n3        2\n4        0"
                    },
                    "execution_count": 25,
                    "metadata": {},
                    "output_type": "execute_result"
                }
            ],
            "source": "cluster_output_pd=pd.DataFrame(cluster_output,columns=['segment'])\ncluster_output_pd.head()"
        },
        {
            "cell_type": "code",
            "execution_count": 26,
            "metadata": {},
            "outputs": [
                {
                    "data": {
                        "text/html": "<div>\n<style scoped>\n    .dataframe tbody tr th:only-of-type {\n        vertical-align: middle;\n    }\n\n    .dataframe tbody tr th {\n        vertical-align: top;\n    }\n\n    .dataframe thead th {\n        text-align: right;\n    }\n</style>\n<table border=\"1\" class=\"dataframe\">\n  <thead>\n    <tr style=\"text-align: right;\">\n      <th></th>\n      <th>INCOME</th>\n      <th>TOTAL SPENT</th>\n      <th>segment</th>\n    </tr>\n  </thead>\n  <tbody>\n    <tr>\n      <th>0</th>\n      <td>133498</td>\n      <td>6826.770</td>\n      <td>1</td>\n    </tr>\n    <tr>\n      <th>1</th>\n      <td>94475</td>\n      <td>5062.451</td>\n      <td>2</td>\n    </tr>\n    <tr>\n      <th>2</th>\n      <td>88610</td>\n      <td>8562.440</td>\n      <td>2</td>\n    </tr>\n    <tr>\n      <th>3</th>\n      <td>84313</td>\n      <td>5522.694</td>\n      <td>2</td>\n    </tr>\n    <tr>\n      <th>4</th>\n      <td>51498</td>\n      <td>213.512</td>\n      <td>0</td>\n    </tr>\n  </tbody>\n</table>\n</div>",
                        "text/plain": "   INCOME  TOTAL SPENT  segment\n0  133498     6826.770        1\n1   94475     5062.451        2\n2   88610     8562.440        2\n3   84313     5522.694        2\n4   51498      213.512        0"
                    },
                    "execution_count": 26,
                    "metadata": {},
                    "output_type": "execute_result"
                }
            ],
            "source": "segment_DF=pd.concat([cluster_input,cluster_output_pd],axis=1)\nsegment_DF.head()"
        },
        {
            "cell_type": "code",
            "execution_count": 27,
            "metadata": {},
            "outputs": [
                {
                    "data": {
                        "text/plain": "array([[ 40510.09803922,   2472.75349673],\n       [138782.09302326,   7000.99888372],\n       [ 79935.74285714,   5456.05944286],\n       [112164.72727273,   7855.41939669]])"
                    },
                    "execution_count": 27,
                    "metadata": {},
                    "output_type": "execute_result"
                }
            ],
            "source": "Kmeans_model.cluster_centers_"
        },
        {
            "cell_type": "code",
            "execution_count": 32,
            "metadata": {},
            "outputs": [
                {
                    "data": {
                        "text/html": "<div>\n<style scoped>\n    .dataframe tbody tr th:only-of-type {\n        vertical-align: middle;\n    }\n\n    .dataframe tbody tr th {\n        vertical-align: top;\n    }\n\n    .dataframe thead th {\n        text-align: right;\n    }\n</style>\n<table border=\"1\" class=\"dataframe\">\n  <thead>\n    <tr style=\"text-align: right;\">\n      <th></th>\n      <th>INCOME</th>\n      <th>TOTAL SPENT</th>\n      <th>segment</th>\n    </tr>\n  </thead>\n  <tbody>\n    <tr>\n      <th>4</th>\n      <td>51498</td>\n      <td>213.512</td>\n      <td>0</td>\n    </tr>\n    <tr>\n      <th>10</th>\n      <td>20256</td>\n      <td>1496.871</td>\n      <td>0</td>\n    </tr>\n    <tr>\n      <th>14</th>\n      <td>57251</td>\n      <td>7398.953</td>\n      <td>0</td>\n    </tr>\n    <tr>\n      <th>19</th>\n      <td>59964</td>\n      <td>4306.776</td>\n      <td>0</td>\n    </tr>\n    <tr>\n      <th>23</th>\n      <td>51529</td>\n      <td>2884.220</td>\n      <td>0</td>\n    </tr>\n  </tbody>\n</table>\n</div>",
                        "text/plain": "    INCOME  TOTAL SPENT  segment\n4    51498      213.512        0\n10   20256     1496.871        0\n14   57251     7398.953        0\n19   59964     4306.776        0\n23   51529     2884.220        0"
                    },
                    "execution_count": 32,
                    "metadata": {},
                    "output_type": "execute_result"
                }
            ],
            "source": "segment_DF[segment_DF.segment==0].head()"
        },
        {
            "cell_type": "code",
            "execution_count": 33,
            "metadata": {},
            "outputs": [
                {
                    "data": {
                        "image/png": "[encoded data removed]",
                        "text/plain": "<Figure size 432x288 with 1 Axes>"
                    },
                    "metadata": {
                        "needs_background": "light"
                    },
                    "output_type": "display_data"
                }
            ],
            "source": "import matplotlib.pyplot as plt\n\nplt.scatter(segment_DF[segment_DF.segment==0]['INCOME'],segment_DF[segment_DF.segment==0]['TOTAL SPENT'],s=50, c='purple',label='Cluster1')\n\nplt.scatter(segment_DF[segment_DF.segment==1]['INCOME'],segment_DF[segment_DF.segment==1]['TOTAL SPENT'],s=50, c='blue',label='Cluster3')\n\nplt.scatter(segment_DF[segment_DF.segment==2]['INCOME'],segment_DF[segment_DF.segment==2]['TOTAL SPENT'],s=50, c='green',label='Cluster4')\n\nplt.scatter(segment_DF[segment_DF.segment==3]['INCOME'],segment_DF[segment_DF.segment==3]['TOTAL SPENT'],s=50, c='cyan',label='Cluster2')\n\nplt.scatter(Kmeans_model.cluster_centers_[:,0], Kmeans_model.cluster_centers_[:,1],s=200,marker='s', c='red', alpha=0.7, label='Centroids')\n\nplt.title('Customer segments using K-means (k=4)')\n\nplt.xlabel('Income')\n\nplt.ylabel('Total Spend')\n\nplt.legend()\n\nplt.show()"
        },
        {
            "cell_type": "code",
            "execution_count": 34,
            "metadata": {},
            "outputs": [
                {
                    "data": {
                        "text/html": "<div>\n<style scoped>\n    .dataframe tbody tr th:only-of-type {\n        vertical-align: middle;\n    }\n\n    .dataframe tbody tr th {\n        vertical-align: top;\n    }\n\n    .dataframe thead th {\n        text-align: right;\n    }\n</style>\n<table border=\"1\" class=\"dataframe\">\n  <thead>\n    <tr style=\"text-align: right;\">\n      <th></th>\n      <th>CUSTOMERID</th>\n      <th>GENDER</th>\n      <th>AGE</th>\n      <th>INCOME</th>\n      <th>EXPERIENCE SCORE</th>\n      <th>LOYALTY GROUP</th>\n      <th>ENROLLMENT DATE</th>\n      <th>HOUSEHOLD SIZE</th>\n      <th>MARITAL STATUS</th>\n      <th>APPAREL</th>\n      <th>ELECTRONICS</th>\n      <th>FOOD</th>\n      <th>HEALTH &amp; BEAUTY</th>\n      <th>TOTAL SPENT</th>\n      <th>segment</th>\n    </tr>\n  </thead>\n  <tbody>\n    <tr>\n      <th>0</th>\n      <td>10001</td>\n      <td>0</td>\n      <td>64</td>\n      <td>133498</td>\n      <td>5</td>\n      <td>enrolled</td>\n      <td>06-03-2013</td>\n      <td>4</td>\n      <td>Single</td>\n      <td>4022.430</td>\n      <td>1601.315</td>\n      <td>68.688</td>\n      <td>1134.337</td>\n      <td>6826.770</td>\n      <td>1</td>\n    </tr>\n    <tr>\n      <th>1</th>\n      <td>10002</td>\n      <td>0</td>\n      <td>42</td>\n      <td>94475</td>\n      <td>9</td>\n      <td>notenrolled</td>\n      <td>NaN</td>\n      <td>6</td>\n      <td>Married</td>\n      <td>2312.509</td>\n      <td>2473.163</td>\n      <td>276.779</td>\n      <td>0.000</td>\n      <td>5062.451</td>\n      <td>2</td>\n    </tr>\n    <tr>\n      <th>2</th>\n      <td>10003</td>\n      <td>0</td>\n      <td>40</td>\n      <td>88610</td>\n      <td>9</td>\n      <td>enrolled</td>\n      <td>02-09-2010</td>\n      <td>5</td>\n      <td>Married</td>\n      <td>2887.382</td>\n      <td>5414.418</td>\n      <td>260.640</td>\n      <td>0.000</td>\n      <td>8562.440</td>\n      <td>2</td>\n    </tr>\n    <tr>\n      <th>3</th>\n      <td>10004</td>\n      <td>0</td>\n      <td>38</td>\n      <td>84313</td>\n      <td>8</td>\n      <td>enrolled</td>\n      <td>06-04-2015</td>\n      <td>1</td>\n      <td>Single</td>\n      <td>3637.213</td>\n      <td>1840.211</td>\n      <td>45.270</td>\n      <td>0.000</td>\n      <td>5522.694</td>\n      <td>2</td>\n    </tr>\n    <tr>\n      <th>4</th>\n      <td>10005</td>\n      <td>0</td>\n      <td>30</td>\n      <td>51498</td>\n      <td>3</td>\n      <td>notenrolled</td>\n      <td>NaN</td>\n      <td>1</td>\n      <td>Single</td>\n      <td>213.512</td>\n      <td>0.000</td>\n      <td>0.000</td>\n      <td>0.000</td>\n      <td>213.512</td>\n      <td>0</td>\n    </tr>\n  </tbody>\n</table>\n</div>",
                        "text/plain": "   CUSTOMERID  GENDER  AGE  INCOME  EXPERIENCE SCORE LOYALTY GROUP  \\\n0       10001       0   64  133498                 5      enrolled   \n1       10002       0   42   94475                 9   notenrolled   \n2       10003       0   40   88610                 9      enrolled   \n3       10004       0   38   84313                 8      enrolled   \n4       10005       0   30   51498                 3   notenrolled   \n\n  ENROLLMENT DATE  HOUSEHOLD SIZE MARITAL STATUS   APPAREL  ELECTRONICS  \\\n0      06-03-2013               4         Single  4022.430     1601.315   \n1             NaN               6        Married  2312.509     2473.163   \n2      02-09-2010               5        Married  2887.382     5414.418   \n3      06-04-2015               1         Single  3637.213     1840.211   \n4             NaN               1         Single   213.512        0.000   \n\n      FOOD  HEALTH & BEAUTY  TOTAL SPENT  segment  \n0   68.688         1134.337     6826.770        1  \n1  276.779            0.000     5062.451        2  \n2  260.640            0.000     8562.440        2  \n3   45.270            0.000     5522.694        2  \n4    0.000            0.000      213.512        0  "
                    },
                    "execution_count": 34,
                    "metadata": {},
                    "output_type": "execute_result"
                }
            ],
            "source": "customer_demographics=pd.concat([customer_all_view,cluster_output_pd],axis=1)\ncustomer_demographics.head()"
        },
        {
            "cell_type": "code",
            "execution_count": 35,
            "metadata": {},
            "outputs": [
                {
                    "data": {
                        "text/html": "<div>\n<style scoped>\n    .dataframe tbody tr th:only-of-type {\n        vertical-align: middle;\n    }\n\n    .dataframe tbody tr th {\n        vertical-align: top;\n    }\n\n    .dataframe thead th {\n        text-align: right;\n    }\n</style>\n<table border=\"1\" class=\"dataframe\">\n  <thead>\n    <tr style=\"text-align: right;\">\n      <th></th>\n      <th>AGE</th>\n      <th>HOUSEHOLD SIZE</th>\n    </tr>\n    <tr>\n      <th>segment</th>\n      <th></th>\n      <th></th>\n    </tr>\n  </thead>\n  <tbody>\n    <tr>\n      <th>0</th>\n      <td>25.104575</td>\n      <td>2</td>\n    </tr>\n    <tr>\n      <th>1</th>\n      <td>73.609195</td>\n      <td>2</td>\n    </tr>\n    <tr>\n      <th>2</th>\n      <td>36.692857</td>\n      <td>3</td>\n    </tr>\n    <tr>\n      <th>3</th>\n      <td>48.133333</td>\n      <td>3</td>\n    </tr>\n  </tbody>\n</table>\n</div>",
                        "text/plain": "               AGE  HOUSEHOLD SIZE\nsegment                           \n0        25.104575               2\n1        73.609195               2\n2        36.692857               3\n3        48.133333               3"
                    },
                    "execution_count": 35,
                    "metadata": {},
                    "output_type": "execute_result"
                }
            ],
            "source": "customer_demographics.groupby('segment').agg({'AGE':'mean','HOUSEHOLD SIZE':'median'})"
        },
        {
            "cell_type": "code",
            "execution_count": 36,
            "metadata": {},
            "outputs": [],
            "source": "def percent_loyalty(series):\n    percent=100 * series.value_counts()['enrolled'] /series.count()\n    return percent"
        },
        {
            "cell_type": "code",
            "execution_count": 37,
            "metadata": {},
            "outputs": [
                {
                    "data": {
                        "text/html": "<div>\n<style scoped>\n    .dataframe tbody tr th:only-of-type {\n        vertical-align: middle;\n    }\n\n    .dataframe tbody tr th {\n        vertical-align: top;\n    }\n\n    .dataframe thead th {\n        text-align: right;\n    }\n</style>\n<table border=\"1\" class=\"dataframe\">\n  <thead>\n    <tr style=\"text-align: right;\">\n      <th></th>\n      <th>AGE</th>\n      <th>HOUSEHOLD SIZE</th>\n      <th>LOYALTY GROUP</th>\n    </tr>\n    <tr>\n      <th>segment</th>\n      <th></th>\n      <th></th>\n      <th></th>\n    </tr>\n  </thead>\n  <tbody>\n    <tr>\n      <th>0</th>\n      <td>25.104575</td>\n      <td>2</td>\n      <td>50.326797</td>\n    </tr>\n    <tr>\n      <th>1</th>\n      <td>73.609195</td>\n      <td>2</td>\n      <td>65.517241</td>\n    </tr>\n    <tr>\n      <th>2</th>\n      <td>36.692857</td>\n      <td>3</td>\n      <td>33.571429</td>\n    </tr>\n    <tr>\n      <th>3</th>\n      <td>48.133333</td>\n      <td>3</td>\n      <td>69.166667</td>\n    </tr>\n  </tbody>\n</table>\n</div>",
                        "text/plain": "               AGE  HOUSEHOLD SIZE  LOYALTY GROUP\nsegment                                          \n0        25.104575               2      50.326797\n1        73.609195               2      65.517241\n2        36.692857               3      33.571429\n3        48.133333               3      69.166667"
                    },
                    "execution_count": 37,
                    "metadata": {},
                    "output_type": "execute_result"
                }
            ],
            "source": "customer_demographics.groupby('segment').agg({'AGE':'mean','HOUSEHOLD SIZE':'median','LOYALTY GROUP': percent_loyalty})"
        },
        {
            "cell_type": "code",
            "execution_count": null,
            "metadata": {},
            "outputs": [],
            "source": ""
        },
        {
            "cell_type": "code",
            "execution_count": null,
            "metadata": {},
            "outputs": [],
            "source": ""
        }
    ],
    "metadata": {
        "kernelspec": {
            "display_name": "Python 3.6",
            "language": "python",
            "name": "python3"
        },
        "language_info": {
            "codemirror_mode": {
                "name": "ipython",
                "version": 3
            },
            "file_extension": ".py",
            "mimetype": "text/x-python",
            "name": "python",
            "nbconvert_exporter": "python",
            "pygments_lexer": "ipython3",
            "version": "3.6.9"
        }
    },
    "nbformat": 4,
    "nbformat_minor": 1
}